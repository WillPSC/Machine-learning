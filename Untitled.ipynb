{
 "cells": [
  {
   "cell_type": "code",
   "execution_count": 47,
   "id": "df4f295c-c12c-4f4a-b773-de2ad683e080",
   "metadata": {},
   "outputs": [],
   "source": [
    "import pathlib\n",
    "import cv2\n",
    "import matplotlib.pyplot as plt\n",
    "import PIL\n",
    "\n",
    "PIL.Image.MAX_IMAGE_PIXELS = 933120000"
   ]
  },
  {
   "cell_type": "code",
   "execution_count": 48,
   "id": "1239bf6c-034d-410a-b38e-c9a65fbeaf55",
   "metadata": {},
   "outputs": [],
   "source": [
    "cascade_path = pathlib.Path(cv2.__file__).parent.absolute() / \"data/haarcascade_frontalface_default.xml\"\n",
    "eye_cascade = cv2.CascadeClassifier('data/haarcascade_eye_tree_eyeglasses.xml')\n",
    "clf = cv2.CascadeClassifier(str(cascade_path))\n",
    "\n",
    "\n",
    "\n",
    "image = cv2.imread(\"images/tt2510894.jpg\")"
   ]
  },
  {
   "cell_type": "code",
   "execution_count": 51,
   "id": "9cb63375-a489-4c35-9541-daec99793ef6",
   "metadata": {},
   "outputs": [
    {
     "name": "stdout",
     "output_type": "stream",
     "text": [
      "Original Dimensions :  (443, 300, 3)\n",
      "Resized Dimensions :  (1329, 900, 3)\n"
     ]
    }
   ],
   "source": [
    "\n",
    "print('Original Dimensions : ',image.shape)\n",
    "\n",
    "scale_percent = 300 # percent of original size\n",
    "width = int(image.shape[1] * scale_percent / 100)\n",
    "height = int(image.shape[0] * scale_percent / 100)\n",
    "dim = (width, height)\n",
    "  \n",
    "# resize image\n",
    "resized = cv2.resize(image, dim, interpolation = cv2.INTER_AREA)\n",
    "\n",
    "print('Resized Dimensions : ',resized.shape)\n",
    " "
   ]
  },
  {
   "cell_type": "code",
   "execution_count": 52,
   "id": "7860096c-c8e2-4ca0-8162-77767949cda3",
   "metadata": {
    "tags": []
   },
   "outputs": [
    {
     "name": "stdout",
     "output_type": "stream",
     "text": [
      "Image faces_detected.jpg written to filesystem:  True\n"
     ]
    }
   ],
   "source": [
    "\n",
    "gray = cv2.cvtColor(resized, cv2.COLOR_BGR2GRAY)\n",
    "faces = clf.detectMultiScale(\n",
    "    gray,\n",
    "    scaleFactor=1.3,\n",
    "    minNeighbors=3,\n",
    "    minSize=(30,30),\n",
    "    flags=cv2.CASCADE_SCALE_IMAGE\n",
    "    )\n",
    "eyes = eye_cascade.detectMultiScale(\n",
    "    gray,\n",
    "    scaleFactor=1.3,\n",
    "    minNeighbors=3,\n",
    "    minSize=(30,30),\n",
    "    flags=cv2.CASCADE_SCALE_IMAGE\n",
    "    )\n",
    "for (x, y , width, height) in faces:\n",
    "    cv2.rectangle(resized, (x,y), (x+width, y+height) , (255,255,0), 2)\n",
    "    \n",
    "# draw a rectangle around eyes\n",
    "for (ex,ey,ew,eh) in eyes:\n",
    "    cv2.rectangle(resized,(ex,ey),(ex+ew,ey+eh),(0,255,255),2)    \n",
    "    \n",
    "status = cv2.imwrite('result-tt2510894.jpg', resized)\n",
    "print (\"Image faces_detected.jpg written to filesystem: \",status)"
   ]
  },
  {
   "cell_type": "code",
   "execution_count": null,
   "id": "30822366-fba6-459a-a6a2-ee190a3ea791",
   "metadata": {},
   "outputs": [],
   "source": []
  },
  {
   "cell_type": "code",
   "execution_count": null,
   "id": "629018be-17cf-4dec-983c-014d353cebff",
   "metadata": {},
   "outputs": [],
   "source": []
  },
  {
   "cell_type": "code",
   "execution_count": null,
   "id": "9de2f092-89a8-441b-856c-e2307e9ea43c",
   "metadata": {},
   "outputs": [],
   "source": []
  }
 ],
 "metadata": {
  "kernelspec": {
   "display_name": "Poetry",
   "language": "python",
   "name": "poetry-kernel"
  },
  "language_info": {
   "codemirror_mode": {
    "name": "ipython",
    "version": 3
   },
   "file_extension": ".py",
   "mimetype": "text/x-python",
   "name": "python",
   "nbconvert_exporter": "python",
   "pygments_lexer": "ipython3",
   "version": "3.10.6"
  }
 },
 "nbformat": 4,
 "nbformat_minor": 5
}
